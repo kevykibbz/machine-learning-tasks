{
 "cells": [
  {
   "cell_type": "code",
   "execution_count": 1,
   "id": "fe350abb-4075-4991-9178-671e040f3a20",
   "metadata": {},
   "outputs": [
    {
     "name": "stdout",
     "output_type": "stream",
     "text": [
      "WARNING:tensorflow:From C:\\Users\\legit\\AppData\\Local\\Programs\\Python\\Python310\\lib\\site-packages\\keras\\src\\losses.py:2976: The name tf.losses.sparse_softmax_cross_entropy is deprecated. Please use tf.compat.v1.losses.sparse_softmax_cross_entropy instead.\n",
      "\n"
     ]
    }
   ],
   "source": [
    "import os\n",
    "import numpy as np\n",
    "import tensorflow as tf\n",
    "from tensorflow.keras.preprocessing.image import load_img, img_to_array\n",
    "from tensorflow.keras.applications.vgg16 import preprocess_input, decode_predictions"
   ]
  },
  {
   "cell_type": "code",
   "execution_count": 2,
   "id": "4a61e383-646c-4b7b-a8e0-2c04c9e4d45f",
   "metadata": {},
   "outputs": [
    {
     "name": "stdout",
     "output_type": "stream",
     "text": [
      "WARNING:tensorflow:From C:\\Users\\legit\\AppData\\Local\\Programs\\Python\\Python310\\lib\\site-packages\\keras\\src\\backend.py:1398: The name tf.executing_eagerly_outside_functions is deprecated. Please use tf.compat.v1.executing_eagerly_outside_functions instead.\n",
      "\n",
      "WARNING:tensorflow:From C:\\Users\\legit\\AppData\\Local\\Programs\\Python\\Python310\\lib\\site-packages\\keras\\src\\layers\\pooling\\max_pooling2d.py:161: The name tf.nn.max_pool is deprecated. Please use tf.nn.max_pool2d instead.\n",
      "\n"
     ]
    }
   ],
   "source": [
    "# Load pre-trained VGG16 model\n",
    "model = tf.keras.applications.VGG16(weights='imagenet')"
   ]
  },
  {
   "cell_type": "code",
   "execution_count": 3,
   "id": "210b6208-5689-49e4-a359-532e00c133a2",
   "metadata": {},
   "outputs": [],
   "source": [
    "# Define directories\n",
    "base_dir = 'dataset'\n",
    "incoming_data_dir = os.path.join(base_dir, 'incoming_data')\n",
    "mixed_data_dir = os.path.join(base_dir, 'mixed_data')"
   ]
  },
  {
   "cell_type": "code",
   "execution_count": 5,
   "id": "75f1a84f-d451-41fe-9cd2-fd8468ed57dd",
   "metadata": {},
   "outputs": [],
   "source": [
    "if not os.path.exists(mixed_data_dir):\n",
    "    \n",
    "    # Create mixed_data directory if it doesn't exist\n",
    "    os.makedirs(mixed_data_dir, exist_ok=True)\n",
    "    \n",
    "    # Iterate through cat and dog directories and mix images\n",
    "    for animal_dir in ['cat', 'dog']:\n",
    "        animal_path = os.path.join(incoming_data_dir, animal_dir)\n",
    "        for filename in os.listdir(animal_path):\n",
    "            img_path = os.path.join(animal_path, filename)\n",
    "            img = load_img(img_path, target_size=(224, 224))  # Load image\n",
    "            img_array = img_to_array(img)  # Convert image to array\n",
    "            img_array = np.expand_dims(img_array, axis=0)  # Expand dimensions\n",
    "            img_array = preprocess_input(img_array)  # Preprocess input\n",
    "            mixed_img_path = os.path.join(mixed_data_dir, filename)\n",
    "            np.save(mixed_img_path, img_array)  # Save mixed image"
   ]
  },
  {
   "cell_type": "code",
   "execution_count": 6,
   "id": "addb5fef-73fe-4a66-9d3d-cbc6dbb44523",
   "metadata": {},
   "outputs": [
    {
     "name": "stdout",
     "output_type": "stream",
     "text": [
      "1/1 [==============================] - 2s 2s/step\n",
      "Image: Image_1.jpg.npy, Predicted class: malinois\n",
      "1/1 [==============================] - 1s 579ms/step\n",
      "Image: Image_10.jpg.npy, Predicted class: golden_retriever\n",
      "1/1 [==============================] - 1s 658ms/step\n",
      "Image: Image_11.jpg.npy, Predicted class: wire-haired_fox_terrier\n",
      "1/1 [==============================] - 1s 941ms/step\n",
      "Image: Image_12.jpg.npy, Predicted class: Labrador_retriever\n",
      "1/1 [==============================] - 1s 601ms/step\n",
      "Image: Image_13.jpg.npy, Predicted class: Afghan_hound\n",
      "1/1 [==============================] - 1s 591ms/step\n",
      "Image: Image_14.jpg.npy, Predicted class: chow\n",
      "1/1 [==============================] - 1s 510ms/step\n",
      "Image: Image_15.jpg.npy, Predicted class: German_short-haired_pointer\n",
      "1/1 [==============================] - 1s 536ms/step\n",
      "Image: Image_16.jpg.npy, Predicted class: Labrador_retriever\n",
      "1/1 [==============================] - 1s 531ms/step\n",
      "Image: Image_17.jpg.npy, Predicted class: Rhodesian_ridgeback\n",
      "1/1 [==============================] - 1s 527ms/step\n",
      "Image: Image_18.jpg.npy, Predicted class: Madagascar_cat\n",
      "1/1 [==============================] - 1s 536ms/step\n",
      "Image: Image_19.jpg.npy, Predicted class: Labrador_retriever\n",
      "1/1 [==============================] - 1s 575ms/step\n",
      "Image: Image_2.jpeg.npy, Predicted class: silky_terrier\n",
      "1/1 [==============================] - 1s 604ms/step\n",
      "Image: Image_2.jpg.npy, Predicted class: Egyptian_cat\n",
      "1/1 [==============================] - 1s 517ms/step\n",
      "Image: Image_20.jpg.npy, Predicted class: Pembroke\n",
      "1/1 [==============================] - 1s 610ms/step\n",
      "Image: Image_21.JPG.npy, Predicted class: komondor\n",
      "1/1 [==============================] - 1s 564ms/step\n",
      "Image: Image_22.jpg.npy, Predicted class: Egyptian_cat\n",
      "1/1 [==============================] - 1s 579ms/step\n",
      "Image: Image_23.jpg.npy, Predicted class: tabby\n",
      "1/1 [==============================] - 1s 556ms/step\n",
      "Image: Image_24.jpg.npy, Predicted class: lynx\n",
      "1/1 [==============================] - 1s 612ms/step\n",
      "Image: Image_25.jpg.npy, Predicted class: tabby\n",
      "1/1 [==============================] - 1s 562ms/step\n",
      "Image: Image_26.jpg.npy, Predicted class: tabby\n",
      "1/1 [==============================] - 1s 640ms/step\n",
      "Image: Image_27.jpg.npy, Predicted class: tabby\n",
      "1/1 [==============================] - 1s 529ms/step\n",
      "Image: Image_27.png.npy, Predicted class: golden_retriever\n",
      "1/1 [==============================] - 1s 566ms/step\n",
      "Image: Image_28.jpg.npy, Predicted class: space_heater\n",
      "1/1 [==============================] - 1s 542ms/step\n",
      "Image: Image_29.jpg.npy, Predicted class: tabby\n",
      "1/1 [==============================] - 1s 544ms/step\n",
      "Image: Image_3.jpg.npy, Predicted class: Egyptian_cat\n",
      "1/1 [==============================] - 1s 528ms/step\n",
      "Image: Image_30.jpg.npy, Predicted class: Egyptian_cat\n",
      "1/1 [==============================] - 1s 596ms/step\n",
      "Image: Image_31.jpg.npy, Predicted class: tabby\n",
      "1/1 [==============================] - 1s 511ms/step\n",
      "Image: Image_32.jpg.npy, Predicted class: tiger_cat\n",
      "1/1 [==============================] - 1s 546ms/step\n",
      "Image: Image_33.jpg.npy, Predicted class: tiger_cat\n",
      "1/1 [==============================] - 1s 559ms/step\n",
      "Image: Image_34.jpg.npy, Predicted class: lynx\n",
      "1/1 [==============================] - 1s 551ms/step\n",
      "Image: Image_35.jpg.npy, Predicted class: grey_fox\n",
      "1/1 [==============================] - 1s 571ms/step\n",
      "Image: Image_36.jpg.npy, Predicted class: lynx\n",
      "1/1 [==============================] - 1s 602ms/step\n",
      "Image: Image_37.jpg.npy, Predicted class: tabby\n",
      "1/1 [==============================] - 1s 570ms/step\n",
      "Image: Image_38.jpg.npy, Predicted class: tabby\n",
      "1/1 [==============================] - 1s 823ms/step\n",
      "Image: Image_39.jpg.npy, Predicted class: Egyptian_cat\n",
      "1/1 [==============================] - 1s 733ms/step\n",
      "Image: Image_4.jpg.npy, Predicted class: tabby\n",
      "1/1 [==============================] - 1s 662ms/step\n",
      "Image: Image_40.jpg.npy, Predicted class: tiger_cat\n",
      "1/1 [==============================] - 1s 655ms/step\n",
      "Image: Image_41.jpg.npy, Predicted class: Egyptian_cat\n",
      "1/1 [==============================] - 1s 529ms/step\n",
      "Image: Image_42.jpg.npy, Predicted class: carton\n",
      "1/1 [==============================] - 1s 623ms/step\n",
      "Image: Image_43.jpg.npy, Predicted class: lynx\n",
      "1/1 [==============================] - 1s 569ms/step\n",
      "Image: Image_44.jpg.npy, Predicted class: Egyptian_cat\n",
      "1/1 [==============================] - 1s 663ms/step\n",
      "Image: Image_45.jpg.npy, Predicted class: Siamese_cat\n",
      "1/1 [==============================] - 1s 1s/step\n",
      "Image: Image_46.jpg.npy, Predicted class: Border_collie\n",
      "1/1 [==============================] - 1s 742ms/step\n",
      "Image: Image_47.png.npy, Predicted class: Egyptian_cat\n",
      "1/1 [==============================] - 1s 568ms/step\n",
      "Image: Image_48.jpg.npy, Predicted class: Egyptian_cat\n",
      "1/1 [==============================] - 1s 755ms/step\n",
      "Image: Image_49.jpg.npy, Predicted class: Egyptian_cat\n",
      "1/1 [==============================] - 1s 666ms/step\n",
      "Image: Image_5.jpeg.npy, Predicted class: tabby\n",
      "1/1 [==============================] - 1s 746ms/step\n",
      "Image: Image_5.jpg.npy, Predicted class: Labrador_retriever\n",
      "1/1 [==============================] - 1s 595ms/step\n",
      "Image: Image_50.gif.npy, Predicted class: Chihuahua\n",
      "1/1 [==============================] - 1s 913ms/step\n",
      "Image: Image_50.jpg.npy, Predicted class: schipperke\n",
      "1/1 [==============================] - 1s 903ms/step\n",
      "Image: Image_6.jpg.npy, Predicted class: Persian_cat\n",
      "1/1 [==============================] - 1s 741ms/step\n",
      "Image: Image_7.jpg.npy, Predicted class: tabby\n",
      "1/1 [==============================] - 1s 810ms/step\n",
      "Image: Image_8.jpg.npy, Predicted class: Egyptian_cat\n",
      "1/1 [==============================] - 1s 710ms/step\n",
      "Image: Image_9.jpg.npy, Predicted class: black-footed_ferret\n"
     ]
    }
   ],
   "source": [
    "# Make predictions on mixed images\n",
    "for filename in os.listdir(mixed_data_dir):\n",
    "    img_array = np.load(os.path.join(mixed_data_dir, filename))\n",
    "    preds = model.predict(img_array)\n",
    "    decoded_preds = decode_predictions(preds, top=1)[0]  # Get top prediction\n",
    "    label = decoded_preds[0][1]  # Get label\n",
    "    print(f\"Image: {filename}, Predicted class: {label}\")"
   ]
  },
  {
   "cell_type": "code",
   "execution_count": null,
   "id": "fd16cee0-2c02-451c-b530-efbf9fa09de4",
   "metadata": {},
   "outputs": [],
   "source": []
  }
 ],
 "metadata": {
  "kernelspec": {
   "display_name": "Python 3 (ipykernel)",
   "language": "python",
   "name": "python3"
  },
  "language_info": {
   "codemirror_mode": {
    "name": "ipython",
    "version": 3
   },
   "file_extension": ".py",
   "mimetype": "text/x-python",
   "name": "python",
   "nbconvert_exporter": "python",
   "pygments_lexer": "ipython3",
   "version": "3.10.0"
  }
 },
 "nbformat": 4,
 "nbformat_minor": 5
}
