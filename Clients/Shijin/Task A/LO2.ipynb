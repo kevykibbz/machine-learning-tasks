{
 "cells": [
  {
   "cell_type": "code",
   "execution_count": 10,
   "id": "2d55a9d4-9040-4aa3-87d7-1a24b581056f",
   "metadata": {},
   "outputs": [],
   "source": [
    "# 1. Linear Regression\n",
    "\n",
    "from sklearn.linear_model import LinearRegression\n",
    "from sklearn.model_selection import train_test_split\n",
    "from sklearn.metrics import mean_squared_error\n",
    "from sklearn.impute import SimpleImputer\n",
    "import pandas as pd"
   ]
  },
  {
   "cell_type": "code",
   "execution_count": 11,
   "id": "d2150aa5-787f-4877-861d-cb1ec0463ccf",
   "metadata": {},
   "outputs": [],
   "source": [
    "# Load the cereals dataset\n",
    "cereals_data = pd.read_csv('cereals.csv')\n",
    "\n",
    "# Drop rows with NaN values\n",
    "cereals_data.dropna(inplace=True)\n",
    "\n",
    "# Taking 'X' as our feature matrix and 'y' as our target variable\n",
    "X = cereals_data[['Calories', 'Protein', 'Fat', 'Sodium', 'Fiber', 'Carbo', 'Sugars', 'Potass', 'Vitamins']]\n",
    "y = cereals_data['Rating']  # Taking 'Rating' as the target variable to predict\n",
    "\n"
   ]
  },
  {
   "cell_type": "code",
   "execution_count": 12,
   "id": "da8f33ad-460b-4427-a3c5-1e130ce24f0d",
   "metadata": {},
   "outputs": [],
   "source": [
    "# Split the dataset into training and testing sets\n",
    "X_train, X_test, y_train, y_test = train_test_split(X, y, test_size=0.2, random_state=42)\n",
    "\n",
    "# Handle missing values using SimpleImputer\n",
    "imputer = SimpleImputer(strategy='mean')\n",
    "X_train_imputed = imputer.fit_transform(X_train)\n",
    "X_test_imputed = imputer.transform(X_test)\n",
    "\n",
    "# Create a Linear Regression model\n",
    "model = LinearRegression()"
   ]
  },
  {
   "cell_type": "code",
   "execution_count": 13,
   "id": "b71a3ccd-6a5b-4e64-9d95-f793b66155e1",
   "metadata": {},
   "outputs": [
    {
     "name": "stdout",
     "output_type": "stream",
     "text": [
      "Mean Squared Error: 1.0176755982424645e-13\n"
     ]
    }
   ],
   "source": [
    "# Fit the model to the training data\n",
    "model.fit(X_train_imputed, y_train)\n",
    "\n",
    "# Make predictions on the test data\n",
    "y_pred = model.predict(X_test_imputed)\n",
    "\n",
    "# Evaluate the model using Mean Squared Error\n",
    "mse = mean_squared_error(y_test, y_pred)\n",
    "print(\"Mean Squared Error:\", mse)"
   ]
  },
  {
   "cell_type": "code",
   "execution_count": 18,
   "id": "dc8a0174-30e8-4e7a-9245-c508902e9237",
   "metadata": {},
   "outputs": [
    {
     "name": "stdout",
     "output_type": "stream",
     "text": [
      "Accuracy: 0.8666666666666667\n",
      "Classification Report:\n",
      "               precision    recall  f1-score   support\n",
      "\n",
      "        high       0.00      0.00      0.00         0\n",
      "         low       0.92      1.00      0.96        11\n",
      "      medium       1.00      0.50      0.67         4\n",
      "\n",
      "    accuracy                           0.87        15\n",
      "   macro avg       0.64      0.50      0.54        15\n",
      "weighted avg       0.94      0.87      0.88        15\n",
      "\n"
     ]
    },
    {
     "name": "stderr",
     "output_type": "stream",
     "text": [
      "C:\\Users\\legit\\AppData\\Local\\Programs\\Python\\Python310\\lib\\site-packages\\sklearn\\metrics\\_classification.py:1497: UndefinedMetricWarning: Recall is ill-defined and being set to 0.0 in labels with no true samples. Use `zero_division` parameter to control this behavior.\n",
      "  _warn_prf(average, modifier, f\"{metric.capitalize()} is\", len(result))\n",
      "C:\\Users\\legit\\AppData\\Local\\Programs\\Python\\Python310\\lib\\site-packages\\sklearn\\metrics\\_classification.py:1497: UndefinedMetricWarning: Recall is ill-defined and being set to 0.0 in labels with no true samples. Use `zero_division` parameter to control this behavior.\n",
      "  _warn_prf(average, modifier, f\"{metric.capitalize()} is\", len(result))\n",
      "C:\\Users\\legit\\AppData\\Local\\Programs\\Python\\Python310\\lib\\site-packages\\sklearn\\metrics\\_classification.py:1497: UndefinedMetricWarning: Recall is ill-defined and being set to 0.0 in labels with no true samples. Use `zero_division` parameter to control this behavior.\n",
      "  _warn_prf(average, modifier, f\"{metric.capitalize()} is\", len(result))\n"
     ]
    }
   ],
   "source": [
    "# 2. Classification\n",
    "\n",
    "from sklearn.model_selection import train_test_split\n",
    "from sklearn.linear_model import LogisticRegression\n",
    "from sklearn.metrics import accuracy_score, classification_report\n",
    "from sklearn.impute import SimpleImputer\n",
    "import pandas as pd\n",
    "\n",
    "# Load your dataset\n",
    "cereals_data = pd.read_csv('cereals.csv')\n",
    "\n",
    "# Drop rows with NaN values\n",
    "cereals_data.dropna(inplace=True)\n",
    "\n",
    "# Taking 'X' as our feature matrix and 'y' as our target variable\n",
    "X = cereals_data[['Calories', 'Protein', 'Fat', 'Sodium', 'Fiber', 'Carbo', 'Sugars', 'Potass', 'Vitamins']]\n",
    "y = cereals_data['Rating']  # Taking 'Rating' as the target variable to predict\n",
    "\n",
    "# Defining bins for low, medium, and high ratings\n",
    "bins = [0, 50, 75, 100]  # Define your own bins based on your criteria\n",
    "labels = ['low', 'medium', 'high']\n",
    "\n",
    "# Map ratings to classes\n",
    "cereals_data['Rating_Class'] = pd.cut(cereals_data['Rating'], bins=bins, labels=labels)\n",
    "\n",
    "# Modify target variable 'y' to use the new Rating_Class\n",
    "y = cereals_data['Rating_Class']\n",
    "\n",
    "\n",
    "# Split the data into training and testing sets\n",
    "X_train, X_test, y_train, y_test = train_test_split(X, y, test_size=0.2, random_state=42)\n",
    "\n",
    "# Impute missing values\n",
    "imputer = SimpleImputer(strategy='mean')  # You can choose 'median' or 'most_frequent' as well\n",
    "X_train_imputed = imputer.fit_transform(X_train)\n",
    "X_test_imputed = imputer.transform(X_test)\n",
    "\n",
    "# Create a Logistic Regression model\n",
    "model = LogisticRegression(max_iter=1000)\n",
    "\n",
    "# Fit the model to the training data\n",
    "model.fit(X_train_imputed, y_train)\n",
    "\n",
    "# Make predictions on the test data\n",
    "y_pred = model.predict(X_test_imputed)\n",
    "\n",
    "# Evaluate the model using accuracy score and classification report\n",
    "accuracy = accuracy_score(y_test, y_pred)\n",
    "print(\"Accuracy:\", accuracy)\n",
    "print(\"Classification Report:\\n\", classification_report(y_test, y_pred))"
   ]
  },
  {
   "cell_type": "code",
   "execution_count": 20,
   "id": "613c1d05-a353-4264-bcc9-c7bc99d65d76",
   "metadata": {},
   "outputs": [
    {
     "name": "stdout",
     "output_type": "stream",
     "text": [
      "Silhouette Score: 0.4649075963735659\n"
     ]
    }
   ],
   "source": [
    "# 3. Clustering \n",
    "\n",
    "from sklearn.cluster import KMeans\n",
    "from sklearn.metrics import silhouette_score\n",
    "import pandas as pd\n",
    "\n",
    "# Load your dataset\n",
    "cereals_data = pd.read_csv('cereals.csv')\n",
    "\n",
    "# Drop rows with NaN values\n",
    "cereals_data.dropna(inplace=True)\n",
    "\n",
    "# Select relevant features for clustering\n",
    "# Choose features that you believe are important for clustering cereals\n",
    "# For example, you can select 'Calories', 'Protein', 'Fat', 'Sodium', etc.\n",
    "X = cereals_data[['Calories', 'Protein', 'Fat', 'Sodium', 'Fiber', 'Carbo', 'Sugars', 'Potass', 'Vitamins']]\n",
    "\n",
    "# Choose the number of clusters (k) based on domain knowledge or techniques like the elbow method\n",
    "k = 3\n",
    "\n",
    "# Create a KMeans model\n",
    "model = KMeans(n_clusters=k, random_state=42)\n",
    "\n",
    "# Fit the model to the data\n",
    "model.fit(X)\n",
    "\n",
    "# Predict the cluster labels\n",
    "labels = model.labels_\n",
    "\n",
    "# Evaluate the clustering using silhouette score\n",
    "silhouette = silhouette_score(X, labels)\n",
    "print(\"Silhouette Score:\", silhouette)\n"
   ]
  },
  {
   "cell_type": "code",
   "execution_count": null,
   "id": "457044e4-0c8a-46b2-a2dd-b0ec7ad50970",
   "metadata": {},
   "outputs": [],
   "source": []
  }
 ],
 "metadata": {
  "kernelspec": {
   "display_name": "Python 3 (ipykernel)",
   "language": "python",
   "name": "python3"
  },
  "language_info": {
   "codemirror_mode": {
    "name": "ipython",
    "version": 3
   },
   "file_extension": ".py",
   "mimetype": "text/x-python",
   "name": "python",
   "nbconvert_exporter": "python",
   "pygments_lexer": "ipython3",
   "version": "3.10.0"
  }
 },
 "nbformat": 4,
 "nbformat_minor": 5
}
