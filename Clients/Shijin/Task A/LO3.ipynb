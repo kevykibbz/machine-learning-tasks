{
 "cells": [
  {
   "cell_type": "code",
   "execution_count": 7,
   "id": "c7035ade-d9ca-4905-ac39-488df7827c29",
   "metadata": {},
   "outputs": [],
   "source": [
    "from sklearn.model_selection import train_test_split\n",
    "from sklearn.linear_model import LogisticRegression\n",
    "from sklearn.metrics import accuracy_score, classification_report\n",
    "from sklearn.impute import SimpleImputer\n",
    "import pandas as pd"
   ]
  },
  {
   "cell_type": "code",
   "execution_count": 8,
   "id": "0402fee0-544c-41ae-8ddb-532e00ab8a11",
   "metadata": {},
   "outputs": [],
   "source": [
    "# Load the cereals dataset\n",
    "cereals_data = pd.read_csv('cereals.csv')\n",
    "\n",
    "# Drop rows with NaN values\n",
    "cereals_data.dropna(inplace=True)"
   ]
  },
  {
   "cell_type": "code",
   "execution_count": 9,
   "id": "e025f942-7a2a-4bf0-ba42-c119ceaf02a6",
   "metadata": {},
   "outputs": [],
   "source": [
    "# Select features and target variable\n",
    "X = cereals_data[['Calories', 'Protein', 'Fat', 'Sodium', 'Fiber', 'Carbo', 'Sugars', 'Potass', 'Vitamins']]\n",
    "y = cereals_data['Rating']  # Assuming 'Rating' is the target variable\n",
    "\n",
    "# Discretize the target variable 'Rating' into two classes: High and Low\n",
    "# Define a threshold to categorize ratings\n",
    "threshold = cereals_data['Rating'].mean()\n",
    "\n",
    "# Map ratings above the threshold as 'High' and ratings below or equal to the threshold as 'Low'\n",
    "cereals_data['Rating_Class'] = ['High' if rating > threshold else 'Low' for rating in cereals_data['Rating']]\n",
    "\n",
    "# Update the target variable\n",
    "y = cereals_data['Rating_Class']"
   ]
  },
  {
   "cell_type": "code",
   "execution_count": 10,
   "id": "5ab3043a-51cb-46a4-a84f-7561637e7f72",
   "metadata": {},
   "outputs": [],
   "source": [
    "# Split the data into training and testing sets\n",
    "X_train, X_test, y_train, y_test = train_test_split(X, y, test_size=0.2, random_state=42)\n",
    "\n",
    "# Impute missing values\n",
    "imputer = SimpleImputer(strategy='mean')\n",
    "X_train_imputed = imputer.fit_transform(X_train)\n",
    "X_test_imputed = imputer.transform(X_test)"
   ]
  },
  {
   "cell_type": "code",
   "execution_count": 6,
   "id": "100765f4-b12c-40fb-93d5-7eea805eadcd",
   "metadata": {},
   "outputs": [
    {
     "name": "stdout",
     "output_type": "stream",
     "text": [
      "Accuracy: 0.9333333333333333\n",
      "Classification Report:\n",
      "               precision    recall  f1-score   support\n",
      "\n",
      "        High       1.00      0.75      0.86         4\n",
      "         Low       0.92      1.00      0.96        11\n",
      "\n",
      "    accuracy                           0.93        15\n",
      "   macro avg       0.96      0.88      0.91        15\n",
      "weighted avg       0.94      0.93      0.93        15\n",
      "\n"
     ]
    }
   ],
   "source": [
    "# Choose a classification model (e.g., Logistic Regression)\n",
    "model = LogisticRegression(max_iter=1000)\n",
    "\n",
    "# Train the model\n",
    "model.fit(X_train_imputed, y_train)\n",
    "\n",
    "# Make predictions on the test set\n",
    "y_pred = model.predict(X_test_imputed)\n",
    "\n",
    "# Evaluate the model\n",
    "accuracy = accuracy_score(y_test, y_pred)\n",
    "print(\"Accuracy:\", accuracy)\n",
    "print(\"Classification Report:\\n\", classification_report(y_test, y_pred))"
   ]
  },
  {
   "cell_type": "code",
   "execution_count": null,
   "id": "dec6a4a5-6702-478a-9ea7-031f9aeb89b6",
   "metadata": {},
   "outputs": [],
   "source": []
  }
 ],
 "metadata": {
  "kernelspec": {
   "display_name": "Python 3 (ipykernel)",
   "language": "python",
   "name": "python3"
  },
  "language_info": {
   "codemirror_mode": {
    "name": "ipython",
    "version": 3
   },
   "file_extension": ".py",
   "mimetype": "text/x-python",
   "name": "python",
   "nbconvert_exporter": "python",
   "pygments_lexer": "ipython3",
   "version": "3.10.0"
  }
 },
 "nbformat": 4,
 "nbformat_minor": 5
}
