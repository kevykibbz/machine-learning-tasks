{
 "cells": [
  {
   "cell_type": "code",
   "execution_count": 2,
   "id": "163f97a3-50e5-46da-bb50-0dd6d7fa12ea",
   "metadata": {},
   "outputs": [],
   "source": [
    "import pandas as pd"
   ]
  },
  {
   "cell_type": "code",
   "execution_count": 3,
   "id": "64e4c8b0-769a-462f-9058-0e1d76118c6f",
   "metadata": {},
   "outputs": [],
   "source": [
    "# Load the credit assessment dataset\n",
    "credit_data = pd.read_csv('credit_risk_dataset.csv')"
   ]
  },
  {
   "cell_type": "code",
   "execution_count": 11,
   "id": "ce13ca5c-94db-4c59-a714-9bce2d8c6328",
   "metadata": {},
   "outputs": [],
   "source": [
    "# Handling of missing values\n",
    "credit_data.dropna(inplace=True)  # Remove rows with missing values"
   ]
  },
  {
   "cell_type": "code",
   "execution_count": 13,
   "id": "8dbc62c0-f949-4018-b41f-0d53229e3626",
   "metadata": {},
   "outputs": [],
   "source": [
    "# Step 2: Encoding Categorical Variables\n",
    "credit_data= pd.get_dummies(credit_data, columns=['person_home_ownership', 'loan_intent', 'cb_person_default_on_file'])"
   ]
  },
  {
   "cell_type": "code",
   "execution_count": 15,
   "id": "216069a5-d3c3-4756-aad1-37d0a0433fef",
   "metadata": {},
   "outputs": [],
   "source": [
    "# Split the dataset into features (X) and target variable (y)\n",
    "X = credit_data.drop(columns=['loan_status'])  # Features\n",
    "y = credit_data['loan_status']  # Target variable"
   ]
  },
  {
   "cell_type": "code",
   "execution_count": 16,
   "id": "51e71fc9-9f29-47fb-8dad-55016b7759a2",
   "metadata": {},
   "outputs": [],
   "source": [
    "# Split the dataset into training and testing sets\n",
    "from sklearn.model_selection import train_test_split\n",
    "X_train, X_test, y_train, y_test = train_test_split(X, y, test_size=0.2, random_state=42)"
   ]
  },
  {
   "cell_type": "code",
   "execution_count": 17,
   "id": "c1e68a0a-43b0-4f2d-8488-a0acba994fae",
   "metadata": {},
   "outputs": [
    {
     "name": "stdout",
     "output_type": "stream",
     "text": [
      "Shape of X_train: (22910, 19)\n",
      "Shape of X_test: (5728, 19)\n",
      "Shape of y_train: (22910,)\n",
      "Shape of y_test: (5728,)\n"
     ]
    }
   ],
   "source": [
    "print(\"Shape of X_train:\", X_train.shape)\n",
    "print(\"Shape of X_test:\", X_test.shape)\n",
    "print(\"Shape of y_train:\", y_train.shape)\n",
    "print(\"Shape of y_test:\", y_test.shape)"
   ]
  },
  {
   "cell_type": "code",
   "execution_count": null,
   "id": "71064112-3dd1-4240-887b-2c56b08dbbaf",
   "metadata": {},
   "outputs": [],
   "source": []
  }
 ],
 "metadata": {
  "kernelspec": {
   "display_name": "Python 3 (ipykernel)",
   "language": "python",
   "name": "python3"
  },
  "language_info": {
   "codemirror_mode": {
    "name": "ipython",
    "version": 3
   },
   "file_extension": ".py",
   "mimetype": "text/x-python",
   "name": "python",
   "nbconvert_exporter": "python",
   "pygments_lexer": "ipython3",
   "version": "3.10.0"
  }
 },
 "nbformat": 4,
 "nbformat_minor": 5
}
